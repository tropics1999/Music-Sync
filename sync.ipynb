{
 "cells": [
  {
   "cell_type": "markdown",
   "metadata": {},
   "source": [
    "# Sync Youtube Music to Tidal\n",
    "## API Authentication\n",
    "Authenticate with both YTMusic API and Tidal API. Note if the Tidal key is out of date the console will spit out a link you need to follow. Once authenticated it will provide a new session ID, enter this in the code below."
   ]
  },
  {
   "cell_type": "code",
   "execution_count": 1,
   "metadata": {},
   "outputs": [],
   "source": [
    "from ytmusicapi import YTMusic\n",
    "import tidalapi\n",
    "import csv\n",
    "from dotenv import load_dotenv\n",
    "\n",
    "# Authenticate Youtube\n",
    "yt = YTMusic('headers_auth.json')\n",
    "\n",
    "# Load Tidal Authentication Information\n",
    "load_dotenv()\n",
    "\n",
    "TIDAL_TOKEN_TYPE = os.getenv('TIDAL_TOKEN_TYPE')\n",
    "TIDAL_SESSION_ID = os.getenv('TIDAL_SESSION_ID')\n",
    "TIDAL_ACCESS_TOKEN = os.getenv('TIDAL_ACCESS_TOKEN')\n",
    "\n",
    "# Authenticate Tidal\n",
    "tidal = tidalapi.Session()\n",
    "if not tidal.load_oauth_session(TIDAL_SESSION_ID, TIDAL_TOKEN_TYPE, TIDAL_ACCESS_TOKEN):\n",
    "    tidal.login_oauth_simple()\n",
    "\n",
    "    print('Authenticated! Please add the following to your .env')\n",
    "    print('Session ID: ' + tidal.session_id)\n",
    "    print('Token Type: ' + tidal.token_type)\n",
    "    print('Access Token: ' + tidal.access_token)\n",
    "else:\n",
    "    print('Authenticated!')"
   ]
  },
  {
   "cell_type": "markdown",
   "metadata": {},
   "source": [
    "## Getting Youtube Music Tracks\n",
    "Get the youtube music tracks and parse them as a list of dictionaries containing the song name, artist name and album name. Then, run through this dictionary, searching each song in Tidal and trying to make a match."
   ]
  },
  {
   "cell_type": "code",
   "execution_count": 4,
   "metadata": {},
   "outputs": [],
   "source": [
    "yt_library = []\n",
    "for item in yt.get_library_songs(10):\n",
    "    yt_library.append({'name': item['title'], 'artist': item['artists'][0]['name'], 'album': item['album']['name']})\n",
    "\n",
    "matches = []\n",
    "\n",
    "# Loop over every item in the library\n",
    "for item in yt_library:\n",
    "    best_quality = 0\n",
    "    best_quality_details = {'input_name': item['name'], 'input_artist': item['artist'], 'input_album': item['album'], 'match_quality': 0}\n",
    "\n",
    "    # Loop over every track that is returned in the search\n",
    "    for track in tidal.search('track', item['name'], 100).tracks:\n",
    "        quality = 0\n",
    "        \n",
    "        # Make sure the name matches and skip if it doesn't, add quality depending on match\n",
    "        if track.name.lower() == item['name'].lower():\n",
    "            quality += 100\n",
    "            if track.artist.name.lower() == item['artist'].lower():\n",
    "                quality += 10\n",
    "            if track.album.name.lower() == item['album'].lower():\n",
    "                quality += 1\n",
    "        else:\n",
    "            continue\n",
    "\n",
    "        # If the quality is 111 it is a perfect match so we can add it and skip the rest of the search\n",
    "        if quality == 111:\n",
    "            best_quality = quality\n",
    "            best_quality_details.update({'output_name': track.name, 'output_id': track.id, 'output_artist': track.artist.name, 'output_album': track.album.name, 'match_quality': quality})\n",
    "            break\n",
    "\n",
    "        # Otherwise remember the best one\n",
    "        elif quality > best_quality:\n",
    "            best_quality = quality\n",
    "            best_quality_details.update({'output_name': track.name, 'output_id': track.id, 'output_artist': track.artist.name, 'output_album': track.album.name, 'match_quality': quality})\n",
    "\n",
    "    matches.append(best_quality_details)\n"
   ]
  },
  {
   "cell_type": "markdown",
   "metadata": {},
   "source": [
    "## Adding the Matching Searches to Tidal Favourites\n",
    "Run through the list of matching searches and add those that meet a certain threshold to your Tidal favourites."
   ]
  },
  {
   "cell_type": "code",
   "execution_count": 6,
   "metadata": {},
   "outputs": [
    {
     "name": "stdout",
     "output_type": "stream",
     "text": [
      "Adding: NDA by Billie Eilish to Tidal. Quality: 111\n",
      "Adding: Emoji by Au/Ra to Tidal. Quality: 111\n",
      "Adding: Kill Me With Your Love by One True God to Tidal. Quality: 111\n",
      "Adding: Temper by Vera Blue to Tidal. Quality: 111\n",
      "Adding: Basics by Easy Life to Tidal. Quality: 111\n",
      "Adding: C'est la vie by Weathers to Tidal. Quality: 111\n",
      "Adding: He Don't Love Me by Winona Oak to Tidal. Quality: 111\n",
      "Adding: Why Do You Love Me by Charlotte Lawrence to Tidal. Quality: 111\n",
      "Adding: Feel Me by Selena Gomez to Tidal. Quality: 111\n",
      "Adding: No Roots by Alice Merton to Tidal. Quality: 111\n",
      "Adding: Angry Too by Lola Blanc to Tidal. Quality: 111\n",
      "Adding: Love Like Mine by Stela Cole to Tidal. Quality: 111\n",
      "Adding: I Feel Like I'm Drowning by Two Feet to Tidal. Quality: 111\n",
      "Adding: Human by Sevdaliza to Tidal. Quality: 111\n",
      "Adding: Find an Island by BENEE to Tidal. Quality: 111\n",
      "Adding: A Little Messed Up by june to Tidal. Quality: 111\n",
      "Adding: Controlla by Yarimov to Tidal. Quality: 111\n"
     ]
    }
   ],
   "source": [
    "# tidal.user.favorites.add_track(132710021)\n",
    "for match in matches:\n",
    "    if match['match_quality'] >= 110:\n",
    "        print('Adding: ' + match['input_name'] + ' by ' + match['input_artist'] + ' to Tidal. Quality: ' + str(match['match_quality']))\n",
    "        if tidal.user.favorites.add_track(match['output_id']):\n",
    "            match['status'] = 'Success'\n",
    "        else:\n",
    "            match['status'] = 'Failed'\n",
    "    else:\n",
    "        match['status'] = 'No Match'\n"
   ]
  },
  {
   "cell_type": "markdown",
   "metadata": {},
   "source": [
    "## Make a Report of Songs Added\n",
    "Create a csv report of what songs were added as favourites - and more importantly which were not."
   ]
  },
  {
   "cell_type": "code",
   "execution_count": 9,
   "metadata": {},
   "outputs": [],
   "source": [
    "fieldnames = ['status', 'match_quality', 'input_name', 'input_artist', 'input_album', 'output_name', 'output_artist', 'output_album', 'output_id']\n",
    "\n",
    "with open('sync_report.csv', 'w', encoding='UTF8', newline='') as f:\n",
    "    writer = csv.DictWriter(f, fieldnames=fieldnames)\n",
    "    writer.writeheader()\n",
    "    writer.writerows(matches)"
   ]
  }
 ],
 "metadata": {
  "kernelspec": {
   "display_name": "Python 3.10.2 64-bit",
   "language": "python",
   "name": "python3"
  },
  "language_info": {
   "codemirror_mode": {
    "name": "ipython",
    "version": 3
   },
   "file_extension": ".py",
   "mimetype": "text/x-python",
   "name": "python",
   "nbconvert_exporter": "python",
   "pygments_lexer": "ipython3",
   "version": "3.10.2"
  },
  "orig_nbformat": 4,
  "vscode": {
   "interpreter": {
    "hash": "18384acccc8f540f5045766026562db7c3bd837a8769be2d746cf087ae3f4a17"
   }
  }
 },
 "nbformat": 4,
 "nbformat_minor": 2
}
